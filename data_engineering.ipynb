{
 "cells": [
  {
   "cell_type": "code",
   "execution_count": 1,
   "metadata": {
    "collapsed": true
   },
   "outputs": [],
   "source": [
    "# ## Step 1 - Data Engineering\n",
    "# The climate data for Hawaii is provided through two CSV files. \n",
    "# Start by using Python and Pandas to inspect the content of these files and clean the data.\n",
    "import pandas as pd\n",
    "import numpy as np"
   ]
  },
  {
   "cell_type": "code",
   "execution_count": 5,
   "metadata": {},
   "outputs": [],
   "source": [
    "# * Use Pandas to read in the measurement and station CSV files as DataFrames.\n",
    "# * Inspect the data for NaNs and missing values. You must decide what to do with this data.\n",
    "measurements = pd.read_csv(\"hawaii_measurements.csv\")\n",
    "measurements = measurements.fillna(0)\n",
    "measurements.head()\n",
    "measurements.to_csv(\"clean_measurements.csv\", encoding='utf-8')\n",
    "# * Save your cleaned CSV files with the prefix `clean_`."
   ]
  },
  {
   "cell_type": "code",
   "execution_count": 6,
   "metadata": {},
   "outputs": [],
   "source": [
    "stations = pd.read_csv(\"hawaii_stations.csv\")\n",
    "stations.head()\n",
    "stations.to_csv(\"clean_stations.csv\", encoding='utf-8')"
   ]
  },
  {
   "cell_type": "code",
   "execution_count": 7,
   "metadata": {},
   "outputs": [],
   "source": [
    "# * Save your cleaned CSV files with the prefix `clean_`.\n",
    "merged_df = measurements.merge(stations, on=\"station\", how=\"left\")\n",
    "merged_df.to_csv(\"clean_merged.csv\", encoding='utf-8')"
   ]
  },
  {
   "cell_type": "code",
   "execution_count": null,
   "metadata": {
    "collapsed": true
   },
   "outputs": [],
   "source": []
  }
 ],
 "metadata": {
  "kernelspec": {
   "display_name": "Python [conda env:pythondata]",
   "language": "python",
   "name": "conda-env-pythondata-py"
  },
  "language_info": {
   "codemirror_mode": {
    "name": "ipython",
    "version": 3
   },
   "file_extension": ".py",
   "mimetype": "text/x-python",
   "name": "python",
   "nbconvert_exporter": "python",
   "pygments_lexer": "ipython3",
   "version": "3.6.3"
  }
 },
 "nbformat": 4,
 "nbformat_minor": 2
}
