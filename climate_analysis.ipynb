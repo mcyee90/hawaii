{
 "cells": [
  {
   "cell_type": "code",
   "execution_count": 1,
   "metadata": {
    "collapsed": true
   },
   "outputs": [],
   "source": [
    "# ## Step 3 - Climate Analysis and Exploration\n",
    "\n",
    "# You are now ready to use Python and SQLAlchemy to do basic climate analysis and data exploration on your new weather station tables. \n",
    "# All of the following analysis should be completed using SQLAlchemy ORM queries, Pandas, and Matplotlib.\n",
    "import pandas as pd\n",
    "import matplotlib.pyplot as plt\n",
    "import numpy as np\n",
    "\n",
    "import pymysql\n",
    "pymysql.install_as_MySQLdb()\n",
    "\n",
    "import sqlalchemy\n",
    "from sqlalchemy.ext.automap import automap_base\n",
    "from sqlalchemy import Column, Integer, String, Float\n",
    "\n",
    "from sqlalchemy import create_engine, inspect\n",
    "engine = create_engine(\"sqlite:///hawaii_final.sqlite\", echo = False)\n",
    "inspector = inspect(engine)\n",
    "\n",
    "from sqlalchemy.orm import Session\n",
    "session = Session(engine)\n",
    "from sqlalchemy import func\n",
    "\n",
    "import datetime as dt \n",
    "import time\n"
   ]
  },
  {
   "cell_type": "code",
   "execution_count": 2,
   "metadata": {},
   "outputs": [
    {
     "data": {
      "text/plain": [
       "['measurements', 'stations']"
      ]
     },
     "execution_count": 2,
     "metadata": {},
     "output_type": "execute_result"
    }
   ],
   "source": [
    "# * Use SQLAlchemy `create_engine` to connect to your sqlite database.\n",
    "# * Use SQLAlchemy `automap_base()` to reflect your tables into classes and save a reference to those classes called `Station` and `Measurement`.Base = automap_base()\n",
    "Base = automap_base()\n",
    "Base.prepare(engine, reflect = True)\n",
    "Base.classes.keys()\n",
    "Measurements = Base.classes.measurements\n",
    "Stations = Base.classes.stations"
   ]
  },
  {
   "cell_type": "code",
   "execution_count": 3,
   "metadata": {},
   "outputs": [
    {
     "name": "stdout",
     "output_type": "stream",
     "text": [
      "Start Date: 2018-04-10\n",
      "End Date: 2018-04-13\n"
     ]
    }
   ],
   "source": [
    "# * Choose a start date and end date for your trip. Make sure that your vacation range is approximately 3-15 days total.\n",
    "\n",
    "startdate = dt.datetime.today()\n",
    "enddate = startdate + dt.timedelta(days=3)\n",
    "startdateString = startdate.strftime(\"%Y-%m-%d\")\n",
    "enddateString = enddate.strftime(\"%Y-%m-%d\")\n",
    "print (f'Start Date: {startdateString}')\n",
    "print (f'End Date: {enddateString}')\n",
    "\n",
    "# print (yearAgoString)"
   ]
  },
  {
   "cell_type": "code",
   "execution_count": 4,
   "metadata": {},
   "outputs": [
    {
     "name": "stdout",
     "output_type": "stream",
     "text": [
      "id INTEGER\n",
      "station VARCHAR(255)\n",
      "date DATETIME\n",
      "prcp FLOAT\n",
      "tobs INTEGER\n"
     ]
    }
   ],
   "source": [
    "# ### Precipitation Analysis\n",
    "\n",
    "# * Design a query to retrieve the last 12 months of precipitation data.\n",
    "yearAgo = startdate + dt.timedelta(days=-2*365)\n",
    "yearAgoString = yearAgo.strftime(\"%Y-%m-%d\")\n",
    "# * Select only the `date` and `prcp` values.\n",
    "columns = inspector.get_columns('measurements')\n",
    "for column in columns:\n",
    "    print(column['name'], column['type'])"
   ]
  },
  {
   "cell_type": "code",
   "execution_count": 35,
   "metadata": {},
   "outputs": [
    {
     "data": {
      "image/png": "[encoded data removed]",
      "text/plain": [
       "<matplotlib.figure.Figure at 0x1829b9efbe0>"
      ]
     },
     "metadata": {},
     "output_type": "display_data"
    }
   ],
   "source": [
    "# * Load the query results into a Pandas DataFrame and set the index to the date column.\n",
    "# * Plot the results using the DataFrame `plot` method.\n",
    "\n",
    "percipitation = session.query(Measurements.date, func.sum(Measurements.prcp))\\\n",
    "                .filter(Measurements.date >= yearAgo)\\\n",
    "                .group_by(Measurements.date).all()\n",
    "dates = []\n",
    "rains = []\n",
    "for row in percipitation:\n",
    "    date = row[0]\n",
    "    dates.append(date)\n",
    "    rain = row[1]\n",
    "    rains.append(rain)\n",
    "percipitation_DF = pd.DataFrame({\"Date\":dates, \"prcp\":rains})\n",
    "percipitation_DF.head()\n",
    "plt.figure(figsize=(12, 7))\n",
    "plt.rc('axes', axisbelow=True)\n",
    "plt.bar(percipitation_DF['Date'], percipitation_DF['prcp'], color=\"blue\", alpha=1, label=\"Percipitation\")\n",
    "plt.title(\"Total Percipittion over Time\")\n",
    "plt.xlabel(\"Date\")\n",
    "plt.grid(b='on')\n",
    "plt.xticks(rotation=45)\n",
    "plt.tight_layout()\n",
    "plt.ylabel(\"Percipitation\")\n",
    "plt.legend()\n",
    "plt.savefig(\"images/percipitation.png\", bbox_inches=\"tight\")\n",
    "plt.show()"
   ]
  },
  {
   "cell_type": "code",
   "execution_count": 6,
   "metadata": {},
   "outputs": [
    {
     "data": {
      "text/html": [
       "<div>\n",
       "<style>\n",
       "    .dataframe thead tr:only-child th {\n",
       "        text-align: right;\n",
       "    }\n",
       "\n",
       "    .dataframe thead th {\n",
       "        text-align: left;\n",
       "    }\n",
       "\n",
       "    .dataframe tbody tr th {\n",
       "        vertical-align: top;\n",
       "    }\n",
       "</style>\n",
       "<table border=\"1\" class=\"dataframe\">\n",
       "  <thead>\n",
       "    <tr style=\"text-align: right;\">\n",
       "      <th></th>\n",
       "      <th>prcp</th>\n",
       "    </tr>\n",
       "  </thead>\n",
       "  <tbody>\n",
       "    <tr>\n",
       "      <th>count</th>\n",
       "      <td>500.000000</td>\n",
       "    </tr>\n",
       "    <tr>\n",
       "      <th>mean</th>\n",
       "      <td>1.085220</td>\n",
       "    </tr>\n",
       "    <tr>\n",
       "      <th>std</th>\n",
       "      <td>2.128126</td>\n",
       "    </tr>\n",
       "    <tr>\n",
       "      <th>min</th>\n",
       "      <td>0.000000</td>\n",
       "    </tr>\n",
       "    <tr>\n",
       "      <th>25%</th>\n",
       "      <td>0.080000</td>\n",
       "    </tr>\n",
       "    <tr>\n",
       "      <th>50%</th>\n",
       "      <td>0.450000</td>\n",
       "    </tr>\n",
       "    <tr>\n",
       "      <th>75%</th>\n",
       "      <td>1.222500</td>\n",
       "    </tr>\n",
       "    <tr>\n",
       "      <th>max</th>\n",
       "      <td>29.850000</td>\n",
       "    </tr>\n",
       "  </tbody>\n",
       "</table>\n",
       "</div>"
      ],
      "text/plain": [
       "             prcp\n",
       "count  500.000000\n",
       "mean     1.085220\n",
       "std      2.128126\n",
       "min      0.000000\n",
       "25%      0.080000\n",
       "50%      0.450000\n",
       "75%      1.222500\n",
       "max     29.850000"
      ]
     },
     "execution_count": 6,
     "metadata": {},
     "output_type": "execute_result"
    }
   ],
   "source": [
    "# * Use Pandas to print the summary statistics for the precipitation data.\n",
    "summary = percipitation_DF.describe()\n",
    "summary"
   ]
  },
  {
   "cell_type": "code",
   "execution_count": 7,
   "metadata": {},
   "outputs": [
    {
     "name": "stdout",
     "output_type": "stream",
     "text": [
      "Station Count: 9\n"
     ]
    }
   ],
   "source": [
    "# ### Station Analysis\n",
    "\n",
    "# * Design a query to calculate the total number of stations.\n",
    "station_count = len(session.query(func.count(Measurements.prcp))\\\n",
    "                .group_by(Measurements.station).all())\n",
    "print (f'Station Count: {station_count}')"
   ]
  },
  {
   "cell_type": "code",
   "execution_count": 8,
   "metadata": {},
   "outputs": [
    {
     "name": "stdout",
     "output_type": "stream",
     "text": [
      "[('USC00519281', 2772), ('USC00519397', 2724), ('USC00513117', 2709), ('USC00519523', 2669), ('USC00516128', 2612), ('USC00514830', 2202), ('USC00511918', 1979), ('USC00517948', 1372), ('USC00518838', 511)]\n",
      "Most Active Station: USC00519281\n"
     ]
    }
   ],
   "source": [
    "# * Design a query to find the most active stations.\n",
    "\n",
    "#   * List the stations and observation counts in descending order\n",
    "#   * Which station has the highest number of observations?\n",
    "obs_count = session.query(Measurements.station, func.count(Measurements.tobs))\\\n",
    "            .group_by(Measurements.station)\\\n",
    "            .order_by(func.count(Measurements.tobs).desc()).all()\n",
    "print (obs_count)\n",
    "most_active = obs_count[0][0]\n",
    "print (f'Most Active Station: {most_active}')\n",
    "\n"
   ]
  },
  {
   "cell_type": "code",
   "execution_count": 9,
   "metadata": {},
   "outputs": [
    {
     "name": "stdout",
     "output_type": "stream",
     "text": [
      "59\n",
      "83\n"
     ]
    },
    {
     "data": {
      "image/png": "[encoded data removed]",
      "text/plain": [
       "<matplotlib.figure.Figure at 0x1829be95e10>"
      ]
     },
     "metadata": {},
     "output_type": "display_data"
    }
   ],
   "source": [
    "# * Design a query to retrieve the last 12 months of temperature observation data (tobs).\n",
    "#   * Filter by the station with the highest number of observations.\n",
    "#   * Plot the results as a histogram with `bins=12`.\n",
    "\n",
    "temps = session.query(Measurements.tobs)\\\n",
    "        .filter(Measurements.station == most_active)\\\n",
    "        .filter(Measurements.date >= yearAgo).all()\n",
    "temp_list = []\n",
    "for temp in temps:\n",
    "    temp = temp[0]\n",
    "    temp_list.append(temp)\n",
    "min_temp = min(temp_list)\n",
    "print (min_temp)\n",
    "max_temp = max(temp_list)\n",
    "print (max_temp)\n",
    "temp_range = max_temp - min_temp\n",
    "bin_size = temp_range/12\n",
    "bin1 = min_temp + bin_size\n",
    "bin2 = bin1 + bin_size\n",
    "bin3 = bin2 + bin_size\n",
    "bin4 = bin3 + bin_size\n",
    "bin5 = bin4 + bin_size\n",
    "bin6 = bin5 + bin_size\n",
    "bin7 = bin6 + bin_size\n",
    "bin8 = bin7 + bin_size\n",
    "bin9 = bin8 + bin_size\n",
    "bin10 = bin9 + bin_size\n",
    "bin11 = bin10 + bin_size\n",
    "bin12 = bin11 + bin_size\n",
    "temp_DF = pd.DataFrame({\"tobs\":temp_list})\n",
    "\n",
    "bins = [bin1, bin2, bin3, bin4, bin5, bin6, bin7, bin8, bin9, bin10, bin11, bin12]\n",
    "groups = [\"<\"+str(bin2),\"<\"+str(bin3),\"<\"+str(bin4),\"<\"+str(bin5),\"<\"+str(bin6),\"<\"+str(bin7),\n",
    "         \"<\"+str(bin8),\"<\"+str(bin9),\"<\"+str(bin10),\"<\"+str(bin11),\"<\"+str(bin12)]\n",
    "\n",
    "temp_DF['binned'] = pd.cut(temp_DF[\"tobs\"], bins, labels=groups)\n",
    "temp_DF\n",
    "\n",
    "plt.figure(figsize=(12, 7))\n",
    "plt.grid(b='on')\n",
    "plt.rc('axes', axisbelow=True)\n",
    "plt.hist(temp_DF['tobs'], bins=bins, color=\"blue\", alpha=1, label=\"Temperature\")\n",
    "plt.title(\"Frequency of Temperature Ranges\")\n",
    "plt.xlabel(\"Temperature\")\n",
    "plt.tight_layout()\n",
    "plt.ylabel(\"Frequency\")\n",
    "plt.legend()\n",
    "plt.savefig('images/temp_hist.png')\n",
    "plt.show()\n",
    "\n"
   ]
  },
  {
   "cell_type": "code",
   "execution_count": 33,
   "metadata": {},
   "outputs": [
    {
     "name": "stdout",
     "output_type": "stream",
     "text": [
      "               avg  min  max\n",
      "date                        \n",
      "2018-02-10  67.875   65   70\n",
      "2018-02-11  68.250   62   77\n",
      "2018-02-12  67.125   63   71\n",
      "2018-02-13  67.875   65   71\n",
      "2018-02-14  70.750   66   79\n"
     ]
    },
    {
     "data": {
      "image/png": "[encoded data removed]",
      "text/plain": [
       "<matplotlib.figure.Figure at 0x1829b680ef0>"
      ]
     },
     "metadata": {},
     "output_type": "display_data"
    },
    {
     "name": "stdout",
     "output_type": "stream",
     "text": [
      "                          avg_temp  min_temp  max_temp\n",
      "date_range                                            \n",
      "2018-02-10 to 2018-02-14    68.375        62        79\n"
     ]
    },
    {
     "data": {
      "image/png": "[encoded data removed]",
      "text/plain": [
       "<matplotlib.figure.Figure at 0x1829b715b38>"
      ]
     },
     "metadata": {},
     "output_type": "display_data"
    }
   ],
   "source": [
    "# ### Temperature Analysis\n",
    "# * Write a function called `calc_temps` that will accept a start date and end date\n",
    "# in the format `%Y-%m-%d` and return the minimum, average, and maximum temperatures \n",
    "# for that range of dates.\n",
    "# * Use the `calc_temps` function to calculate the min, avg, and max temperatures for your trip using the matching dates from the previous year (i.e. use \"2017-01-01\" if your trip start date was \"2018-01-01\")\n",
    "# * Plot the min, avg, and max temperature from your previous query as a bar chart.\n",
    "#   * Use the average temperature as the bar height.\n",
    "#   * Use the peak-to-peak (tmax-tmin) value as the y error bar (yerr).\n",
    "# ### Optional Recommended Analysis\n",
    "# * The following are optional challenge queries. These are highly recommended to attempt, but not required for the homework.\n",
    "#   * Calcualte the rainfall per weather station using the previous year's matching dates.\n",
    "# * Calculate the daily normals. Normals are the averages for min, avg, and max temperatures.\n",
    "#   * Create a function called `daily_normals` that will calculate the daily normals for a specific date. \n",
    "# This date string will be in the format `%m-%d`. Be sure to use all historic tobs that match that date string.\n",
    "#   * Create a list of dates for your trip in the format `%m-%d`. \n",
    "# Use the `daily_normals` function to calculate the normals for each date string and append the results to a list.\n",
    "#   * Load the list of daily normals into a Pandas DataFrame and set the index equal to the date.\n",
    "#   * Use Pandas to plot an area plot (`stacked=False`) for the daily normals.\n",
    "\n",
    "def calc_temps(vacStart, vacEnd):\n",
    "    try:\n",
    "        monthStart = int(vacStart[5:7])\n",
    "        dayStart = int(vacStart[8:])\n",
    "        monthEnd = int(vacEnd[5:7])\n",
    "        dayEnd = int(vacEnd[8:])\n",
    "        vacStartDT = dt.datetime(2018, monthStart, dayStart)\n",
    "        vacEndDT = dt.datetime(2018, monthEnd, dayEnd)\n",
    "        duration = (vacEndDT - vacStartDT).days\n",
    "    #     print(duration)\n",
    "        t_list = []\n",
    "        t_list_string = []\n",
    "        min_list = []\n",
    "        avg_list = []\n",
    "        max_list = []\n",
    "        all_temps = []\n",
    "        for x in np.arange(duration + 1):\n",
    "            t_day = (vacStartDT + dt.timedelta(days = int(x)))\n",
    "            t_list_string.append(dt.datetime.strftime(t_day, \"%Y-%m-%d\"))\n",
    "            \n",
    "            t_list.append(t_day)\n",
    "    #         print (t_day)\n",
    "            vacation_temps = session.query(Measurements.date, Measurements.tobs)\\\n",
    "                                .filter(func.extract('month', Measurements.date) == t_day.month)\\\n",
    "                                .filter(func.extract('day', Measurements.date) == t_day.day)\\\n",
    "                                .group_by(Measurements.date).all()\n",
    "            temp_list = []\n",
    "            for temp in vacation_temps:\n",
    "                temp = temp[1]\n",
    "                temp_list.append(temp)\n",
    "                all_temps.append(temp)\n",
    "    #         print (temp_list)\n",
    "            min_temp = min(temp_list)\n",
    "            min_list.append(min_temp)\n",
    "            max_temp = max(temp_list)\n",
    "            max_list.append(max_temp)\n",
    "            avg_temp = np.mean(temp_list)\n",
    "            avg_list.append(avg_temp)\n",
    "        avg_all = np.mean(all_temps)\n",
    "        max_all = max(all_temps)\n",
    "        min_all = min(all_temps)\n",
    "        daterange = t_list_string[0]+\" to \"+t_list_string[x]\n",
    "        vacation_temps = pd.DataFrame({\"date\":t_list, \"min\":min_list, \"avg\":avg_list, \"max\":max_list})\n",
    "        vacation_temps = vacation_temps.set_index([\"date\"])\n",
    "        vacation_temps = vacation_temps[['avg', 'min', 'max']]\n",
    "        all_temps_df = pd.DataFrame({\"date_range\":[daterange], \"min_temp\":[min_all], \"max_temp\":[max_all], \"avg_temp\":[avg_all]})\n",
    "        all_temps_df = all_temps_df.set_index([\"date_range\"])\n",
    "        all_temps_df = all_temps_df[['avg_temp', 'min_temp', 'max_temp']]\n",
    "        fig, tx = plt.subplots(figsize=(12, 7))\n",
    "        tx.plot(t_list, min_list, ls=\"solid\", alpha = 1, c=\"blue\", label = \"min\")\n",
    "        tx.fill_between(x = t_list, y1 = min_list, y2 = 0, facecolor=\"blue\", alpha = .25)\n",
    "        tx.plot(t_list, avg_list, ls=\"solid\", alpha = 1, c=\"green\", label = \"avg\")\n",
    "        tx.fill_between(x = t_list, y1 = min_list, y2 = avg_list, facecolor=\"green\", alpha = .25)\n",
    "        tx.plot(t_list, max_list, ls=\"solid\", alpha = 1, c=\"red\", label = \"max\")\n",
    "        tx.fill_between(x = t_list, y1 = max_list, y2 = avg_list, facecolor=\"red\", alpha = .25)\n",
    "        tx.set_xticks(t_list, minor=False)\n",
    "        tx.set_xticklabels(t_list_string, fontdict=None, minor=False)\n",
    "        tx.set_xlim(min(t_list),max(t_list))\n",
    "        tx.set_ylim(0,max(max_list)+5)\n",
    "        tx.set_xlabel('Date')\n",
    "        tx.set_ylabel('Temp')\n",
    "        tx.set_title('Temperatures on Vacation Dates')\n",
    "        tx.grid(color='grey', linestyle='-', linewidth=1, alpha = .15)\n",
    "        tx.legend()\n",
    "        fig.savefig(\"images/dailynormals.png\")\n",
    "        print (vacation_temps)\n",
    "        plt.show()\n",
    "        \n",
    "        fig, ax = plt.subplots(figsize=(12, 7))\n",
    "        ax.bar(1, avg_all, align = \"center\", width = .4, color=\"peachpuff\", alpha=1)\n",
    "        ax.set_xticks([1])\n",
    "        ax.set_xticklabels([\"temp\"], fontdict=None, minor=False)\n",
    "        ax.set_xlim(0,2)\n",
    "        ax.set_ylim(0,max_all+25)\n",
    "        ax.set_ylabel('Temp')\n",
    "        ax.set_title('Temperatures on Vacation Dates')\n",
    "        ax.grid(color='grey', linestyle='-', linewidth=1, alpha = .15)\n",
    "        ax.plot([1,1], [min_all, max_all], c=\"black\", alpha = 1)\n",
    "        fig.savefig(\"images/temp_avg.png\")\n",
    "        print (all_temps_df)\n",
    "        plt.show()\n",
    "    except:\n",
    "        print(\"Please make sure that the dates in the following format: 'yyyy-mm-dd' (example: 2018-01-04)\")\n",
    "calc_temps(\"2018-02-10\", \"2018-02-14\")  "
   ]
  }
 ],
 "metadata": {
  "kernelspec": {
   "display_name": "Python [conda env:pythondata]",
   "language": "python",
   "name": "conda-env-pythondata-py"
  },
  "language_info": {
   "codemirror_mode": {
    "name": "ipython",
    "version": 3
   },
   "file_extension": ".py",
   "mimetype": "text/x-python",
   "name": "python",
   "nbconvert_exporter": "python",
   "pygments_lexer": "ipython3",
   "version": "3.6.3"
  }
 },
 "nbformat": 4,
 "nbformat_minor": 2
}
